{
 "cells": [
  {
   "cell_type": "code",
   "execution_count": 12,
   "metadata": {},
   "outputs": [],
   "source": [
    "import warnings\n",
    "warnings.filterwarnings('ignore')\n",
    "warnings.warn(\"deprecated\", DeprecationWarning)\n",
    "\n",
    "import pandas as pd\n",
    "import numpy as np\n",
    "import seaborn as sns\n",
    "import scipy.stats as stats\n",
    "\n",
    "import pickle"
   ]
  },
  {
   "cell_type": "code",
   "execution_count": 2,
   "metadata": {},
   "outputs": [],
   "source": [
    "def final(test_df):\n",
    "    iterativeImputr = pickle.load(open('iterative_imputer.pickle', 'rb'))\n",
    "    test_df = iterativeImputr.transform(test_df)\n",
    "    robusrscaler = pickle.load(open('robust_scaler.pickle', 'rb'))\n",
    "    test_df = robusrscaler.transform(test_df)\n",
    "    loaded_model = pickle.load(open('randomforest_model.pickle', 'rb'))\n",
    "    prediction = loaded_model.predict(test_df)\n",
    "    \n",
    "    return prediction"
   ]
  },
  {
   "cell_type": "code",
   "execution_count": 27,
   "metadata": {},
   "outputs": [
    {
     "name": "stdout",
     "output_type": "stream",
     "text": [
      "[0]\n"
     ]
    }
   ],
   "source": [
    "test = pd.read_csv('test.csv')\n",
    "test = test.drop(['sku', 'went_on_backorder'],axis=1)\n",
    "test_cpy = test.copy()\n",
    "\n",
    "categorical_features = []\n",
    "for col in test.columns:\n",
    "    if (test.dtypes[col] == 'object'):\n",
    "        categorical_features.append(col)\n",
    "        \n",
    "for feature in categorical_features:\n",
    "    if(feature != 'sku'):\n",
    "        test[feature] = test[feature].map({\"Yes\" : 1, \"No\" : 0}) \n",
    "        \n",
    "predict = final(test.iloc[[5]])\n",
    "print(predict)"
   ]
  },
  {
   "cell_type": "markdown",
   "metadata": {},
   "source": [
    "## Following contain the link of the deployment video\n",
    "\n",
    "https://drive.google.com/file/d/1zj0YPc7nQqV0dEZw7h9Gxg9yd0DJiZGZ/view?usp=sharing"
   ]
  },
  {
   "cell_type": "markdown",
   "metadata": {},
   "source": [
    "## Code for Deployment"
   ]
  },
  {
   "cell_type": "code",
   "execution_count": null,
   "metadata": {},
   "outputs": [],
   "source": [
    "#importing libraries\n",
    "import warnings\n",
    "warnings.filterwarnings('ignore')\n",
    "warnings.warn(\"deprecated\", DeprecationWarning)\n",
    "\n",
    "import pandas as pd\n",
    "import numpy as np\n",
    "import seaborn as sns\n",
    "import scipy.stats as stats\n",
    "\n",
    "import pickle\n",
    "from flask import Flask, request, render_template, send_file\n",
    "\n",
    "app = Flask(__name__)\n",
    "\n",
    "@app.route(\"/\")\n",
    "def home():\n",
    "    return render_template('index.html')\n",
    "\n",
    "@app.route('/predict', methods = ['GET','POST'])\n",
    "def predict_backorder():\n",
    "    try:\n",
    "        # Read the uploaded csv file\n",
    "        file = request.files['search_file']\n",
    "        test_df = pd.read_csv(file)\n",
    "        # Drop the dependent varables and keep a copy of the csv file for the final csv download\n",
    "        test_df = test_df.drop(['went_on_backorder'],axis=1)\n",
    "        test_df_cpy_with_sku = test_df.copy()\n",
    "        test_df = test_df.drop(['sku'],axis=1)\n",
    "        # Find out the categorical features for feature engineering\n",
    "        categorical_features = []\n",
    "        for col in test_df.columns:\n",
    "            if (test_df.dtypes[col] == 'object'):\n",
    "                categorical_features.append(col)\n",
    "        # Preprocess the categorical features and numarical features                \n",
    "        for feature in categorical_features:\n",
    "            if(feature != 'sku'):\n",
    "                test_df[feature] = test_df[feature].map({\"Yes\" : 1, \"No\" : 0}) \n",
    "\n",
    "        test_df.perf_12_month_avg.replace({-99.0 : np.nan}, inplace = True)\n",
    "        test_df.perf_6_month_avg.replace({-99.0 : np.nan}, inplace = True)\n",
    "        test_df['lead_time'].fillna(test_df['lead_time'].mean(),inplace=True)\n",
    "        \n",
    "        iterativeImputr = pickle.load(open('iterative_imputer.pickle', 'rb'))\n",
    "        test_df = iterativeImputr.transform(test_df)\n",
    "        robusrscaler = pickle.load(open('robust_scaler.pickle', 'rb'))\n",
    "        test_df = robusrscaler.transform(test_df)\n",
    "        loaded_model = pickle.load(open('randomforest_model.pickle', 'rb'))\n",
    "        prediction = loaded_model.predict(test_df)\n",
    "\n",
    "        # Save the predicted dependent variable for final csv file creation\n",
    "        final_df = pd.DataFrame()\n",
    "        final_df['sku'] = test_df_cpy_with_sku['sku']\n",
    "        final_df['went_on_backorder'] = prediction.tolist()\n",
    "        final_df['went_on_backorder'] = final_df['went_on_backorder'].map({1 :\"Yes\" , 0 : \"No\" }) \n",
    "        final_df.to_csv('final_csv.csv')\n",
    "        \n",
    "        return send_file('final_csv.csv', mimetype='csv', as_attachment=True, attachment_filename='backorder_prediction_final.csv')\n",
    "        \n",
    "    except Exception as e:\n",
    "        return render_template('index.html',error=e)\n",
    "\n",
    "if __name__ == '__main__':\n",
    "    app.run(debug=True)"
   ]
  }
 ],
 "metadata": {
  "kernelspec": {
   "display_name": "Python 3",
   "language": "python",
   "name": "python3"
  },
  "language_info": {
   "codemirror_mode": {
    "name": "ipython",
    "version": 3
   },
   "file_extension": ".py",
   "mimetype": "text/x-python",
   "name": "python",
   "nbconvert_exporter": "python",
   "pygments_lexer": "ipython3",
   "version": "3.6.5"
  }
 },
 "nbformat": 4,
 "nbformat_minor": 2
}
